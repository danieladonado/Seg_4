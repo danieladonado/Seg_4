{
 "cells": [
  {
   "cell_type": "markdown",
   "id": "ab3b4d31",
   "metadata": {},
   "source": [
    "### **Integrantes**:\n",
    "\n",
    "Daniela Donado\n",
    "Carmen Samaniego\n",
    "Sofia Marcano\n",
    "Dummar Londoño"
   ]
  },
  {
   "cell_type": "markdown",
   "id": "c5cf4f0a",
   "metadata": {},
   "source": [
    "respuesta indice de blanqura\n",
    "\n",
    "NAOH\n",
    "K=5\n",
    "con y sin interacciones\n",
    "Salen como 15 descriptores\n",
    "Make pipline"
   ]
  },
  {
   "cell_type": "code",
   "execution_count": 1,
   "id": "2a362faa",
   "metadata": {},
   "outputs": [],
   "source": [
    "import pandas as pd\n",
    "import numpy as np\n",
    "import matplotlib.pyplot as plt\n",
    "#from tabulate import tabulate #para mostrar el dataframe como una tabla \n",
    "import seaborn as sns\n",
    "from sklearn.linear_model import LinearRegression\n",
    "from sklearn.metrics import mean_squared_error, mean_absolute_error, r2_score\n",
    "from sklearn.preprocessing import PolynomialFeatures\n",
    "from sklearn.model_selection import cross_val_score, KFold\n",
    "from sklearn.pipeline import make_pipeline\n",
    "from sklearn.linear_model import Ridge, Lasso, RidgeCV, LassoCV\n",
    "from sklearn.model_selection import validation_curve, learning_curve\n",
    "\n",
    "\n"
   ]
  },
  {
   "cell_type": "markdown",
   "id": "36a9367c",
   "metadata": {},
   "source": [
    "Cargamos el archivo"
   ]
  },
  {
   "cell_type": "code",
   "execution_count": 2,
   "id": "a8defee5",
   "metadata": {},
   "outputs": [],
   "source": [
    "df_completo= pd.read_excel('blanqueamiento_completo.xlsx')  "
   ]
  },
  {
   "cell_type": "markdown",
   "id": "e487cec6",
   "metadata": {},
   "source": [
    "Generamos el modelo lineal sin interacciones"
   ]
  },
  {
   "cell_type": "code",
   "execution_count": 3,
   "id": "91652113",
   "metadata": {},
   "outputs": [
    {
     "name": "stdout",
     "output_type": "stream",
     "text": [
      "Root Mean Squared Error promedio (RMSE): 3.3042561553367142\n",
      "Coef. de Determinación promedio (R^2): 0.43441481131760007\n"
     ]
    }
   ],
   "source": [
    "y = df_completo['WI'] # variable que queremos describir\n",
    "\n",
    "x = df_completo[['NaOH','H2O2','Dmedio']]\n",
    "\n",
    "\n",
    "# Crear el modelo de regresión lineal\n",
    "model = LinearRegression().fit(x,y) # se genera el modelo con todos los dato\n",
    "\n",
    " \n",
    "k = 5 #recuerden que es apropiado un valor entre 5 y 20\n",
    "\n",
    "# Crear el objeto KFold (k-particiones) para dividir los datos\n",
    "\n",
    "kf = KFold(n_splits=k, shuffle=True, random_state=42) #cross-validation splitter\n",
    "\n",
    "# Realizar k-fold cross-validation\n",
    "scores1 = cross_val_score(model, x, y, cv=kf, scoring='neg_root_mean_squared_error')  # Usamos RMSE como métrica\n",
    "scores = cross_val_score(model, x, y, cv=kf, scoring='r2')  # Usamos R2 como métrica\n",
    "# Calcular el Error Cuadrático Medio promedio\n",
    "rmse_promedio = -np.mean(scores1)  # Scikit-learn devuelve los valores negativos para RMSE, así que lo invertimos\n",
    "R2_promedio = np.mean(scores) #promedio de R2 \n",
    "print(f'Root Mean Squared Error promedio (RMSE): {rmse_promedio}')\n",
    "print(f'Coef. de Determinación promedio (R^2): {R2_promedio}')\n"
   ]
  },
  {
   "cell_type": "markdown",
   "id": "bb803c88",
   "metadata": {},
   "source": [
    "Contruimos el modelo lineal con interacciones de orden 3"
   ]
  },
  {
   "cell_type": "code",
   "execution_count": 4,
   "id": "3c2c85c6",
   "metadata": {},
   "outputs": [
    {
     "name": "stdout",
     "output_type": "stream",
     "text": [
      "Root Mean Squared Error promedio (RMSE) Modelo 2: 3.1988922739739976\n",
      "Coef. de Determinación promedio (R^2) Modelo 2:0.47129876213620053\n"
     ]
    }
   ],
   "source": [
    "modelo2=make_pipeline(PolynomialFeatures(degree= 3, interaction_only=True),LinearRegression())\n",
    "k=5\n",
    "scores1 = cross_val_score(modelo2, x, y, cv=kf, scoring='neg_root_mean_squared_error')  # Usamos RMSE como métrica\n",
    "# Realizar k-fold cross-validation\n",
    "scores = cross_val_score(modelo2, x, y, cv=kf, scoring='r2')  # Usamos R2 como métrica\n",
    "# Calcular el Error Cuadrático Medio promedio\n",
    "rmse_promedio = -np.mean(scores1)  # Scikit-learn devuelve los\n",
    "# valores negativos para RMSE, así que lo invertimos\n",
    "R2_promedio = np.mean(scores) #promedio de R2\n",
    "print(f'Root Mean Squared Error promedio (RMSE) Modelo 2: {rmse_promedio}')\n",
    "print(f'Coef. de Determinación promedio (R^2) Modelo 2:{R2_promedio}')\n"
   ]
  },
  {
   "cell_type": "markdown",
   "id": "c33462a4",
   "metadata": {},
   "source": [
    "**Análisis Punto 1**\n",
    "\n",
    "Teniendo en cuenta que un buen modelo está definido al tener un R2 > 0.6, ninguno de los modelos cumple el estándar, por tanto, sería una mala práctica usar estos regresores para predecir el índice de blancura.\n",
    "\n",
    "El modelo lineal sin interacciones tuvo un RMSE de 3.3 y un R² de 0.434. Cuando se agregaron las interacciones, el R² subió ligeramente a 0.47, pero el RMSE aumentó a 4.2, mostrando que el modelo empeoró en precisión.\n",
    "\n",
    "Esto significa que las interacciones no mejoran el modelo, sino que lo vuelven más complejo y con mayor error.\n",
    "Por tanto, el modelo sin interacciones es más adecuado en comparación, ya que mantiene un error menor."
   ]
  },
  {
   "cell_type": "markdown",
   "id": "837182e7",
   "metadata": {},
   "source": [
    "### Punto 2"
   ]
  },
  {
   "cell_type": "code",
   "execution_count": null,
   "id": "d0cc2e8c",
   "metadata": {},
   "outputs": [
    {
     "name": "stdout",
     "output_type": "stream",
     "text": [
      "Root Mean Squared Error promedio (RMSE) Ridge: 3.2247941424396798\n",
      "Coef. de Determinación promedio (R^2) Ridge:0.4605874183850597\n",
      "Coeficientes Lasso: [ 0.         -0.97870168  0.201166    6.31687096  0.09653073 -0.74776924\n",
      "  0.         -0.00816314]\n"
     ]
    }
   ],
   "source": [
    "alfa = np.logspace(-3,3,num=7)\n",
    "modeloR= make_pipeline(PolynomialFeatures(degree= 3, interaction_only=True), RidgeCV(alphas=alfa,cv=5))\n",
    "scores1 = cross_val_score(modeloR, x, y, cv=kf, scoring='neg_root_mean_squared_error')\n",
    "scores = cross_val_score(modeloR, x, y, cv=kf, scoring='r2')  \n",
    "rmse_promedio = -np.mean(scores1) \n",
    "R2_promedio = np.mean(scores) \n",
    "print(f'Root Mean Squared Error promedio (RMSE) Ridge: {rmse_promedio}')\n",
    "print(f'Coef. de Determinación promedio (R^2) Ridge:{R2_promedio}')\n",
    "\n",
    "\n",
    "modeloL= make_pipeline(PolynomialFeatures(degree= 3, interaction_only=True), LassoCV(alphas=alfa,cv=5,max_iter=10000))\n",
    "cross_val_score(modeloL, x, y, cv=kf, scoring='neg_root_mean_squared_error')\n",
    "\n",
    "modeloR.fit(x,y)\n",
    "modeloL.fit(x,y)\n",
    "coeficientesL= modeloL._final_estimator.coef_\n",
    "print(\"Coeficientes Lasso:\", coeficientesL)\n"
   ]
  },
  {
   "cell_type": "code",
   "execution_count": null,
   "id": "0e671c28",
   "metadata": {},
   "outputs": [
    {
     "name": "stdout",
     "output_type": "stream",
     "text": [
      "Root Mean Squared Error promedio (RMSE) Ridge sin polinomio: 3.318311427191401\n",
      "Coef. de Determinación promedio (R^2) Ridge sin polinomio:0.42799962646603057\n",
      "Coeficientes Lasso: [-0.56559388  0.61109576  2.58448883]\n"
     ]
    }
   ],
   "source": [
    "alfa = np.logspace(-3,3,num=7)\n",
    "modeloR2= RidgeCV(alphas=alfa,cv=5)\n",
    "scores1=cross_val_score(modeloR2, x, y, cv=kf, scoring='neg_root_mean_squared_error')\n",
    "scores = cross_val_score(modeloR2, x, y, cv=kf, scoring='r2') \n",
    "rmse_promedio = -np.mean(scores1) \n",
    "R2_promedio = np.mean(scores)\n",
    "print(f'Root Mean Squared Error promedio (RMSE) Ridge sin polinomio: {rmse_promedio}')\n",
    "print(f'Coef. de Determinación promedio (R^2) Ridge sin polinomio:{R2_promedio}')\n",
    "\n",
    "modeloL2= LassoCV(alphas=alfa,cv=5,max_iter=10000)\n",
    "cross_val_score(modeloL2, x, y, cv=kf, scoring='neg_root_mean_squared_error')\n",
    "\n",
    "modeloR2.fit(x,y)\n",
    "modeloL2.fit(x,y)\n",
    "coeficientesL= modeloL2.coef_\n",
    "print(\"Coeficientes Lasso:\", coeficientesL)"
   ]
  },
  {
   "cell_type": "markdown",
   "id": "7ce3ce4d",
   "metadata": {},
   "source": [
    "#### **Análisis**\n",
    "\n",
    "En la regresión Lasso con interacciones, una variable fue reducida a cero, lo que indica que no aporta información relevante y puede eliminarse. La variable con coeficiente 6.31 tiene la mayor influencia sobre el índice de blancura, mostrando que Lasso ayuda a destacar las más importantes.\n",
    "En el modelo sin interacciones, todas las variables mantienen valores distintos de cero, siendo la de 2.58la más influyente. En conjunto, Lasso permitió ajustar el modelo y mejorar su estabilidad sin perder capacidad de predicción.\n",
    "\n",
    "\n",
    "\n"
   ]
  },
  {
   "cell_type": "markdown",
   "id": "49d738cf",
   "metadata": {},
   "source": [
    "### Punto 3"
   ]
  },
  {
   "cell_type": "code",
   "execution_count": 7,
   "id": "6a10e3bb",
   "metadata": {},
   "outputs": [
    {
     "name": "stdout",
     "output_type": "stream",
     "text": [
      "Root Mean Squared Error promedio (RMSE) Modelo 2: 2.5939762043863714\n",
      "Coef. de Determinación promedio (R^2) Modelo 2:0.6324741439817847\n"
     ]
    }
   ],
   "source": [
    "modelo2=make_pipeline(PolynomialFeatures(degree= 3, interaction_only=False),LinearRegression())\n",
    "k=5\n",
    "scores1 = cross_val_score(modelo2, x, y, cv=kf, scoring='neg_root_mean_squared_error')  # Usamos RMSE como métrica\n",
    "# Realizar k-fold cross-validation\n",
    "scores = cross_val_score(modelo2, x, y, cv=kf, scoring='r2')  # Usamos R2 como métrica\n",
    "# Calcular el Error Cuadrático Medio promedio\n",
    "rmse_promedio = -np.mean(scores1)  # Scikit-learn devuelve los\n",
    "# valores negativos para RMSE, así que lo invertimos\n",
    "R2_promedio = np.mean(scores) #promedio de R2\n",
    "print(f'Root Mean Squared Error promedio (RMSE) Modelo 2: {rmse_promedio}')\n",
    "print(f'Coef. de Determinación promedio (R^2) Modelo 2:{R2_promedio}')"
   ]
  },
  {
   "cell_type": "code",
   "execution_count": 8,
   "id": "470df2cf",
   "metadata": {},
   "outputs": [
    {
     "name": "stdout",
     "output_type": "stream",
     "text": [
      "El mejor orden del polinomio es: 3\n"
     ]
    },
    {
     "data": {
      "image/png": "[encoded data removed]",
      "text/plain": [
       "<Figure size 640x480 with 1 Axes>"
      ]
     },
     "metadata": {},
     "output_type": "display_data"
    }
   ],
   "source": [
    "degree = np.arange(1, 4) # veamos para diferentes valores de grados\n",
    "\n",
    "train_score, val_score = validation_curve(make_pipeline(PolynomialFeatures(degree),LinearRegression()), x, y,\n",
    "                                          param_name='polynomialfeatures__degree',\n",
    "                                          param_range=degree, cv=5) # cv=7 hace un k-fold CV de 7 folds\n",
    "\n",
    "plt.plot(degree, np.median(train_score, axis=1), color='blue', \n",
    "         label='training score') #graficamos el promedios del parámetro de entrenamietno, y el de validación \n",
    "\n",
    "plt.plot(degree, np.median(val_score, axis=1), color='red', \n",
    "         label='validation score') #graficamos el promedio de los parámetros de validación o prueba\n",
    "plt.legend(loc='best')\n",
    "plt.ylim(0, 1)\n",
    "plt.xlabel('degree')\n",
    "plt.ylabel('score')\n",
    "\n",
    "better_degree = degree[np.argmax(np.median(val_score,axis=1))] #buscamos dónde ocurre el máx en la curva\n",
    "# de la curva de validación\n",
    "\n",
    "print(f'El mejor orden del polinomio es: {better_degree}')\n"
   ]
  },
  {
   "cell_type": "code",
   "execution_count": 9,
   "id": "9ecd7c57",
   "metadata": {},
   "outputs": [
    {
     "name": "stdout",
     "output_type": "stream",
     "text": [
      "Root Mean Squared Error promedio (RMSE) Modelo 2: 2.5939762043863714\n",
      "Coef. de Determinación promedio (R^2) Modelo 2:0.6324741439817847\n"
     ]
    }
   ],
   "source": [
    "modelo3=make_pipeline(PolynomialFeatures(degree= 3, interaction_only=False),LinearRegression())\n",
    "k=5\n",
    "scores1 = cross_val_score(modelo3, x, y, cv=kf, scoring='neg_root_mean_squared_error')  # Usamos RMSE como métrica\n",
    "# Realizar k-fold cross-validation\n",
    "scores = cross_val_score(modelo3, x, y, cv=kf, scoring='r2')  # Usamos R2 como métrica\n",
    "# Calcular el Error Cuadrático Medio promedio\n",
    "rmse_promedio = -np.mean(scores1)  # Scikit-learn devuelve los\n",
    "# valores negativos para RMSE, así que lo invertimos\n",
    "R2_promedio = np.mean(scores) #promedio de R2\n",
    "print(f'Root Mean Squared Error promedio (RMSE) Modelo 2: {rmse_promedio}')\n",
    "print(f'Coef. de Determinación promedio (R^2) Modelo 2:{R2_promedio}')\n"
   ]
  },
  {
   "cell_type": "markdown",
   "id": "d69bdb9a",
   "metadata": {},
   "source": [
    "#### **Análisis**\n",
    "\n",
    "En la regresión polinomial, el modelo obtuvo un RMSE promedio de 2.59 y un R² promedio de 0.63, lo que muestra una mejora notable frente a los modelos lineales anteriores.\n",
    "El menor error indica una mayor precisión en las predicciones, y el aumento del R² refleja que el modelo explica mejor la variabilidad del índice de blancura.\n",
    "Por tanto, la regresión polinomial logra un mejor ajuste general, capturando de forma más completa la relación entre las variables.\n",
    "\n"
   ]
  },
  {
   "cell_type": "markdown",
   "id": "368e15df",
   "metadata": {},
   "source": [
    "#### **Punto 4**"
   ]
  },
  {
   "cell_type": "code",
   "execution_count": null,
   "id": "fc00c292",
   "metadata": {},
   "outputs": [],
   "source": [
    "modelo3= make_pipeline(PolynomialFeatures(degree= 3, interaction_only=False), LassoCV(alphas=alfa,cv=5,max_iter=10000000))\n",
    "cross_val_score(modelo3, x, y, cv=kf, scoring='neg_root_mean_squared_error')\n",
    "\n",
    "modelo3.fit(x,y)\n",
    "coeficientesL= modelo3._final_estimator.coef_\n",
    "print(\"Coeficientes Lasso:\", coeficientesL)"
   ]
  }
 ],
 "metadata": {
  "kernelspec": {
   "display_name": "base",
   "language": "python",
   "name": "python3"
  },
  "language_info": {
   "codemirror_mode": {
    "name": "ipython",
    "version": 3
   },
   "file_extension": ".py",
   "mimetype": "text/x-python",
   "name": "python",
   "nbconvert_exporter": "python",
   "pygments_lexer": "ipython3",
   "version": "3.13.5"
  }
 },
 "nbformat": 4,
 "nbformat_minor": 5
}
